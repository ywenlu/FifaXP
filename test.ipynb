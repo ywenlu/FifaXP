{
 "cells": [
  {
   "cell_type": "code",
   "execution_count": 1,
   "metadata": {
    "collapsed": false,
    "scrolled": true
   },
   "outputs": [
    {
     "name": "stdout",
     "output_type": "stream",
     "text": [
      "height has been deprecated.\n",
      "\n"
     ]
    },
    {
     "data": {
      "text/plain": [
       "array([ 18.0405,  18.0374,  18.0405, ...,  19.8425,  19.8441,  19.8441])"
      ]
     },
     "execution_count": 1,
     "metadata": {},
     "output_type": "execute_result"
    }
   ],
   "source": [
    "import pandas as pd\n",
    "import numpy as np\n",
    "import os\n",
    "import re\n",
    "import math\n",
    "import seaborn as sns\n",
    "import matplotlib.pyplot as plt\n",
    "import csv\n",
    "import matplotlib\n",
    "import matplotlib.gridspec as gridspec\n",
    "import scipy.signal as signal\n",
    "from sklearn import preprocessing\n",
    "\n",
    "sns.set(color_codes=True)\n",
    "\n",
    "pd.set_option('display.height', 300)\n",
    "pd.set_option('display.max_rows', 500)\n",
    "pd.set_option('display.max_columns', 500)\n",
    "pd.set_option('display.width', 1000)\n",
    "# data = a numpy array containing the signal to be processed\n",
    "# fs = a scalar which is the sampling frequency of the data\n",
    "chunkdf=pd.read_csv('/home/wenlu/Documents/XPFIFA/biopacMatch/S49_m21.txt',sep='\\t',header=None,usecols=[0,1,3,6,7,9],names=['ts','rsp', 'emg_s','eda','ecg','emg_f'])\n",
    "data = chunkdf['eda'].as_matrix()  \n",
    "data"
   ]
  },
  {
   "cell_type": "code",
   "execution_count": 178,
   "metadata": {
    "collapsed": false
   },
   "outputs": [
    {
     "data": {
      "text/plain": [
       "array([ 1.03056101,  1.02838908,  1.03056101, ...,  2.29308162,\n",
       "        2.29420261,  2.29420261])"
      ]
     },
     "execution_count": 178,
     "metadata": {},
     "output_type": "execute_result"
    }
   ],
   "source": [
    "data=preprocessing.scale(data)\n",
    "data"
   ]
  },
  {
   "cell_type": "code",
   "execution_count": 179,
   "metadata": {
    "collapsed": false
   },
   "outputs": [],
   "source": [
    "plt.plot(data)\n",
    "plt.show()"
   ]
  },
  {
   "cell_type": "code",
   "execution_count": 130,
   "metadata": {
    "collapsed": false
   },
   "outputs": [
    {
     "data": {
      "text/plain": [
       "241"
      ]
     },
     "execution_count": 130,
     "metadata": {},
     "output_type": "execute_result"
    }
   ],
   "source": [
    "data[::1000].size"
   ]
  },
  {
   "cell_type": "code",
   "execution_count": 180,
   "metadata": {
    "collapsed": true
   },
   "outputs": [],
   "source": [
    "overlap_fac=0.5\n",
    "fft_size =2000\n",
    "fs=1000\n",
    "hop_size = np.int32(np.floor(fft_size * (1-overlap_fac)))\n",
    "pad_end_size = fft_size          # the last segment can overlap the end of the data array by no more than one window size\n",
    "total_segments = np.int32(np.ceil(len(data) / np.float32(hop_size)))\n",
    "t_max = len(data) / np.float32(fs)\n",
    " \n",
    "window = np.hanning(fft_size)  # our half cosine window\n",
    "inner_pad = np.zeros(fft_size) # the zeros which will be used to double each segment size\n",
    " \n",
    "proc = np.concatenate((data, np.zeros(pad_end_size)))              # the data to process\n",
    "result = np.empty((total_segments, fft_size), dtype=np.float32)    # space to hold the result\n",
    " \n",
    "for i in xrange(total_segments):                      # for each segment\n",
    "    current_hop = hop_size * i                        # figure out the current segment offset\n",
    "    segment = proc[current_hop:current_hop+fft_size]  # get the current segment\n",
    "    windowed = segment * window                       # multiply by the half cosine function\n",
    "    padded = np.append(windowed, inner_pad)           # add 0s to double the length of the data\n",
    "    spectrum = np.fft.fft(padded) / fft_size          # take the Fourier Transform and scale by the number of samples\n",
    "    autopower = np.abs(spectrum * np.conj(spectrum))  # find the autopower spectrum\n",
    "    result[i, :] = autopower[:fft_size]               # append to the results array"
   ]
  },
  {
   "cell_type": "code",
   "execution_count": 181,
   "metadata": {
    "collapsed": false
   },
   "outputs": [],
   "source": [
    "result = 20*np.log10(result)          # scale to db"
   ]
  },
  {
   "cell_type": "code",
   "execution_count": 182,
   "metadata": {
    "collapsed": false
   },
   "outputs": [],
   "source": [
    "#tmp=result[:,0:200]\n",
    "tmp=result[:]"
   ]
  },
  {
   "cell_type": "code",
   "execution_count": 194,
   "metadata": {
    "collapsed": false
   },
   "outputs": [
    {
     "data": {
      "text/plain": [
       "array([[ -11.8964138 ,  -14.73466015,  -23.89496803, ..., -224.9045105 ,\n",
       "        -195.04241943, -185.33706665],\n",
       "       [ -12.58586025,  -15.42796993,  -24.60222626, ..., -187.89422607,\n",
       "        -190.16340637, -198.32110596],\n",
       "       [ -13.33389854,  -16.18060303,  -25.37310791, ..., -216.01875305,\n",
       "        -191.89553833, -185.6761322 ],\n",
       "       ..., \n",
       "       [   1.68175745,   -1.07095122,   -9.89243889, ..., -197.5173645 ,\n",
       "        -206.16676331, -217.91854858],\n",
       "       [  -9.33522415,  -10.24275589,  -13.00170708, ..., -129.5533905 ,\n",
       "        -129.53747559, -129.53767395],\n",
       "       [         -inf,          -inf,          -inf, ...,          -inf,\n",
       "                 -inf,          -inf]], dtype=float32)"
      ]
     },
     "execution_count": 194,
     "metadata": {},
     "output_type": "execute_result"
    }
   ],
   "source": [
    "result"
   ]
  },
  {
   "cell_type": "code",
   "execution_count": 190,
   "metadata": {
    "collapsed": false
   },
   "outputs": [],
   "source": [
    "plt.hist(tmp.ravel(), bins=256, range=(-250, -100), fc='k', ec='k')\n",
    "plt.show()"
   ]
  },
  {
   "cell_type": "code",
   "execution_count": 195,
   "metadata": {
    "collapsed": false
   },
   "outputs": [
    {
     "data": {
      "text/plain": [
       "(200, 241)"
      ]
     },
     "execution_count": 195,
     "metadata": {},
     "output_type": "execute_result"
    }
   ],
   "source": [
    "tmp.shape"
   ]
  },
  {
   "cell_type": "code",
   "execution_count": 191,
   "metadata": {
    "collapsed": true
   },
   "outputs": [],
   "source": [
    "img = plt.imshow(tmp, cmap='spectral',aspect='auto',clim=(-250,-150))\n",
    "plt.colorbar()\n",
    "plt.show()"
   ]
  },
  {
   "cell_type": "code",
   "execution_count": 193,
   "metadata": {
    "collapsed": true
   },
   "outputs": [],
   "source": [
    "chunkdf=pd.read_csv('/home/wenlu/Documents/XPFIFA/biopacMatch/S49_m21.txt',sep='\\t',header=None,usecols=[0,1,3,6,7,9],names=['ts','rsp', 'emg_s','eda','ecg','emg_f'])\n",
    "data = chunkdf['eda'].as_matrix()  \n",
    "data=preprocessing.scale(data)\n",
    "\n",
    "dataseq=data[::1000]\n",
    "l=dataseq.size\n",
    "\n",
    "overlap_fac=0.5\n",
    "fft_size =2000\n",
    "fs=1000\n",
    "hop_size = np.int32(np.floor(fft_size * (1-overlap_fac)))\n",
    "pad_end_size = fft_size          # the last segment can overlap the end of the data array by no more than one window size\n",
    "total_segments = np.int32(np.ceil(len(data) / np.float32(hop_size)))\n",
    "t_max = len(data) / np.float32(fs)\n",
    " \n",
    "window = np.hanning(fft_size)  # our half cosine window\n",
    "inner_pad = np.zeros(fft_size) # the zeros which will be used to double each segment size\n",
    " \n",
    "proc = np.concatenate((data, np.zeros(pad_end_size)))              # the data to process\n",
    "result = np.empty((total_segments, fft_size), dtype=np.float32)    # space to hold the result\n",
    " \n",
    "for i in xrange(total_segments):                      # for each segment\n",
    "    current_hop = hop_size * i                        # figure out the current segment offset\n",
    "    segment = proc[current_hop:current_hop+fft_size]  # get the current segment\n",
    "    windowed = segment * window                       # multiply by the half cosine function\n",
    "    padded = np.append(windowed, inner_pad)           # add 0s to double the length of the data\n",
    "    spectrum = np.fft.fft(padded) / fft_size          # take the Fourier Transform and scale by the number of samples\n",
    "    autopower = np.abs(spectrum * np.conj(spectrum))  # find the autopower spectrum\n",
    "    result[i, :] = autopower[:fft_size]               # append to the results array\n",
    "result = 20*np.log10(result) \n",
    "tmp=result[:,0:200]\n",
    "tmp=tmp.transpose()[::-1]\n",
    "\n",
    "fig = plt.figure(figsize=(40,30))\n",
    "gs = gridspec.GridSpec(7,1)\n",
    " # raw signal\n",
    "\n",
    "ax1 = fig.add_subplot(gs[1:2, 0])\n",
    "ax1.plot(range(l), dataseq, linewidth=1, label='signal')\n",
    "#ax1.legend()\n",
    "ax1.set_ylabel('signal')\n",
    "\n",
    "\n",
    "ax2 = fig.add_subplot(gs[3:7, 0], sharex=ax1)\n",
    "ax2.imshow(tmp, cmap='spectral',clim=(-200,-100))\n",
    "#ax2.legend()\n",
    "ax2.set_ylabel('stft')\n",
    "\n",
    "\n",
    "#savename='./../plot/'+figurename+'.pdf'\n",
    "#fig.savefig(savename,dpi=100)\n",
    "plt.show()"
   ]
  },
  {
   "cell_type": "code",
   "execution_count": null,
   "metadata": {
    "collapsed": true
   },
   "outputs": [],
   "source": [
    "#result = 20*np.log10(result)          # scale to db\n",
    "#result = np.clip(result, -40, 200)    # clip values"
   ]
  }
 ],
 "metadata": {
  "anaconda-cloud": {},
  "kernelspec": {
   "display_name": "Python [default]",
   "language": "python",
   "name": "python2"
  },
  "language_info": {
   "codemirror_mode": {
    "name": "ipython",
    "version": 2
   },
   "file_extension": ".py",
   "mimetype": "text/x-python",
   "name": "python",
   "nbconvert_exporter": "python",
   "pygments_lexer": "ipython2",
   "version": "2.7.12"
  }
 },
 "nbformat": 4,
 "nbformat_minor": 0
}
